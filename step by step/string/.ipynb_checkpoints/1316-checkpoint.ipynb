{
 "cells": [
  {
   "cell_type": "markdown",
   "metadata": {},
   "source": [
    "[problem link](https://www.acmicpc.net/problem/1316)"
   ]
  },
  {
   "cell_type": "code",
   "execution_count": 1,
   "metadata": {},
   "outputs": [
    {
     "name": "stdout",
     "output_type": "stream",
     "text": [
      "3\n",
      "happy\n",
      "new\n",
      "year\n",
      "3\n"
     ]
    }
   ],
   "source": [
    "result = int(input())\n",
    "for _ in range(result):\n",
    "    word = input()\n",
    "    for i in range(1, len(word)):\n",
    "        if word.find(word[i-1]) > word.find(word[i]):\n",
    "            result -= 1\n",
    "            break\n",
    "print(result)"
   ]
  },
  {
   "cell_type": "markdown",
   "metadata": {},
   "source": [
    "아래는 다른사람 풀이인데 보는순간 뭐지 이건..싶었다.<br>\n",
    "떨어져있지 않은 단어라면 단어가 나타난 순서를 기준으로 정렬하면 똑같을테니<br>\n",
    "그걸 이용해서 비교하는 풀이다. 상상도 못햇다 ㄴㅇㄱ"
   ]
  },
  {
   "cell_type": "code",
   "execution_count": 3,
   "metadata": {},
   "outputs": [
    {
     "name": "stdout",
     "output_type": "stream",
     "text": [
      "3\n",
      "happy\n",
      "new\n",
      "year\n",
      "3\n"
     ]
    }
   ],
   "source": [
    "result = 0\n",
    "for i in range(int(input())):\n",
    "    word = input()\n",
    "    if list(word) == sorted(word, key=word.find):\n",
    "        result += 1\n",
    "print(result)"
   ]
  },
  {
   "cell_type": "code",
   "execution_count": null,
   "metadata": {},
   "outputs": [],
   "source": []
  }
 ],
 "metadata": {
  "kernelspec": {
   "display_name": "Python 3",
   "language": "python",
   "name": "python3"
  },
  "language_info": {
   "codemirror_mode": {
    "name": "ipython",
    "version": 3
   },
   "file_extension": ".py",
   "mimetype": "text/x-python",
   "name": "python",
   "nbconvert_exporter": "python",
   "pygments_lexer": "ipython3",
   "version": "3.7.0"
  }
 },
 "nbformat": 4,
 "nbformat_minor": 4
}
