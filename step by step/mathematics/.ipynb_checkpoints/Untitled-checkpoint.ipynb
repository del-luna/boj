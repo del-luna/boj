{
 "cells": [
  {
   "cell_type": "code",
   "execution_count": null,
   "metadata": {
    "ExecuteTime": {
     "start_time": "2020-08-27T12:45:42.233Z"
    }
   },
   "outputs": [],
   "source": [
    "n = int(input())\n",
    "idx=1\n",
    "while(n-idx>0):\n",
    "    n-=idx\n",
    "    idx+=1\n",
    "if idx%2==0:\n",
    "    print(f'{n}/{idx+1-n}')\n",
    "else:\n",
    "    print(f'{idx+1-n}/{n}')"
   ]
  },
  {
   "cell_type": "markdown",
   "metadata": {
    "ExecuteTime": {
     "end_time": "2020-08-27T12:44:36.548612Z",
     "start_time": "2020-08-27T12:44:35.192923Z"
    }
   },
   "source": [
    "# n = int(input())\n",
    "idx=1\n",
    "while(n-idx>0):\n",
    "    n-=idx\n",
    "    idx+=1\n",
    "if idx%2==0:\n",
    "    print(f'{n}/{idx+1-n}')\n",
    "else:\n",
    "    print(f'{idx+1-n}/{n}')"
   ]
  },
  {
   "cell_type": "code",
   "execution_count": null,
   "metadata": {},
   "outputs": [],
   "source": []
  }
 ],
 "metadata": {
  "kernelspec": {
   "display_name": "Python 3",
   "language": "python",
   "name": "python3"
  },
  "language_info": {
   "codemirror_mode": {
    "name": "ipython",
    "version": 3
   },
   "file_extension": ".py",
   "mimetype": "text/x-python",
   "name": "python",
   "nbconvert_exporter": "python",
   "pygments_lexer": "ipython3",
   "version": "3.7.0"
  },
  "toc": {
   "base_numbering": 1,
   "nav_menu": {},
   "number_sections": true,
   "sideBar": true,
   "skip_h1_title": false,
   "title_cell": "Table of Contents",
   "title_sidebar": "Contents",
   "toc_cell": false,
   "toc_position": {},
   "toc_section_display": true,
   "toc_window_display": false
  }
 },
 "nbformat": 4,
 "nbformat_minor": 4
}
