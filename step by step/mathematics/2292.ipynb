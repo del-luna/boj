{
 "cells": [
  {
   "cell_type": "markdown",
   "metadata": {},
   "source": [
    "[problem link](https://www.acmicpc.net/problem/2292)"
   ]
  },
  {
   "cell_type": "code",
   "execution_count": 1,
   "metadata": {},
   "outputs": [
    {
     "name": "stdout",
     "output_type": "stream",
     "text": [
      "13\n",
      "3\n"
     ]
    }
   ],
   "source": [
    "n = int(input())\n",
    "cnt = 1\n",
    "cnt_six = 6\n",
    "count = 1\n",
    "while n > cnt:\n",
    "    count += 1\n",
    "    cnt += cnt_six\n",
    "    cnt_six += 6\n",
    "print(count)"
   ]
  },
  {
   "cell_type": "code",
   "execution_count": null,
   "metadata": {},
   "outputs": [],
   "source": []
  }
 ],
 "metadata": {
  "kernelspec": {
   "display_name": "Python 3",
   "language": "python",
   "name": "python3"
  },
  "language_info": {
   "codemirror_mode": {
    "name": "ipython",
    "version": 3
   },
   "file_extension": ".py",
   "mimetype": "text/x-python",
   "name": "python",
   "nbconvert_exporter": "python",
   "pygments_lexer": "ipython3",
   "version": "3.7.0"
  }
 },
 "nbformat": 4,
 "nbformat_minor": 4
}
