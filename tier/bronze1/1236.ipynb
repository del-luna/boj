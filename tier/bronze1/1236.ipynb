{
 "cells": [
  {
   "cell_type": "code",
   "execution_count": null,
   "metadata": {},
   "outputs": [],
   "source": [
    "n,m = map(int,input().split())\n",
    "castle=[]\n",
    "\n",
    "for _ in range(n):\n",
    "    castle.append(input())\n",
    "\n",
    "row = []\n",
    "col = []\n",
    "\n",
    "for i in range(n):\n",
    "    row.append(\"X\" not in castle[i])\n",
    "\n",
    "for j in range(m):\n",
    "    col.append(\"X\" not in [castle[i][j] for i in range(n)])    \n",
    "\n",
    "print(max(sum(row),sum(col)))"
   ]
  }
 ],
 "metadata": {
  "kernelspec": {
   "display_name": "Python 3",
   "language": "python",
   "name": "python3"
  },
  "language_info": {
   "codemirror_mode": {
    "name": "ipython",
    "version": 3
   },
   "file_extension": ".py",
   "mimetype": "text/x-python",
   "name": "python",
   "nbconvert_exporter": "python",
   "pygments_lexer": "ipython3",
   "version": "3.7.0"
  },
  "toc": {
   "base_numbering": 1,
   "nav_menu": {},
   "number_sections": true,
   "sideBar": true,
   "skip_h1_title": false,
   "title_cell": "Table of Contents",
   "title_sidebar": "Contents",
   "toc_cell": false,
   "toc_position": {},
   "toc_section_display": true,
   "toc_window_display": false
  }
 },
 "nbformat": 4,
 "nbformat_minor": 4
}
