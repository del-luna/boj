{
 "cells": [
  {
   "cell_type": "code",
   "execution_count": 1,
   "metadata": {
    "ExecuteTime": {
     "end_time": "2020-10-08T04:38:13.683719Z",
     "start_time": "2020-10-08T04:38:08.274261Z"
    }
   },
   "outputs": [
    {
     "name": "stdout",
     "output_type": "stream",
     "text": [
      "4\n",
      "1 7 14 10\n",
      "2\n",
      "4\n"
     ]
    }
   ],
   "source": [
    "L = int(input())\n",
    "Z = sorted(list(map(int, input().split())))\n",
    "N = int(input())\n",
    "start = 0\n",
    "\n",
    "if N in Z: \n",
    "    print(0) \n",
    "    \n",
    "else:\n",
    "    for i in Z:\n",
    "        if N > i:\n",
    "            start = i + 1 \n",
    "        else:\n",
    "            end = i - 1 \n",
    "            break\n",
    "    print(end - start + (end - N) * (N - start))"
   ]
  }
 ],
 "metadata": {
  "kernelspec": {
   "display_name": "Python 3",
   "language": "python",
   "name": "python3"
  },
  "language_info": {
   "codemirror_mode": {
    "name": "ipython",
    "version": 3
   },
   "file_extension": ".py",
   "mimetype": "text/x-python",
   "name": "python",
   "nbconvert_exporter": "python",
   "pygments_lexer": "ipython3",
   "version": "3.7.0"
  },
  "toc": {
   "base_numbering": 1,
   "nav_menu": {},
   "number_sections": true,
   "sideBar": true,
   "skip_h1_title": false,
   "title_cell": "Table of Contents",
   "title_sidebar": "Contents",
   "toc_cell": false,
   "toc_position": {},
   "toc_section_display": true,
   "toc_window_display": false
  }
 },
 "nbformat": 4,
 "nbformat_minor": 4
}
